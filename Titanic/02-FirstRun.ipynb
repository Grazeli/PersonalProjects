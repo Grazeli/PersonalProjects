{
 "cells": [
  {
   "cell_type": "code",
   "execution_count": 12,
   "metadata": {},
   "outputs": [],
   "source": [
    "import warnings\n",
    "warnings.filterwarnings('ignore')\n",
    "\n",
    "import pandas as pd\n",
    "import numpy as np\n",
    "\n",
    "import matplotlib.pyplot as plt\n",
    "import seaborn as sns\n",
    "\n",
    "from sklearn.preprocessing import OneHotEncoder\n",
    "from sklearn.preprocessing import MinMaxScaler\n",
    "\n",
    "pd.set_option(\"display.max_columns\", None)"
   ]
  },
  {
   "cell_type": "code",
   "execution_count": 13,
   "metadata": {},
   "outputs": [],
   "source": [
    "train = pd.read_csv('Data/train.csv')\n",
    "test = pd.read_csv('Data/test.csv')"
   ]
  },
  {
   "cell_type": "code",
   "execution_count": 14,
   "metadata": {},
   "outputs": [],
   "source": [
    "# Separate target and featurbes in train dataset\n",
    "target = train['Survived']\n",
    "train = train.drop(columns=['Survived'])"
   ]
  },
  {
   "cell_type": "code",
   "execution_count": 15,
   "metadata": {},
   "outputs": [],
   "source": [
    "# Feature extraction from name.\n",
    "\n",
    "# Creating the rank column based from the name.\n",
    "accepted_ranks = ['Mr', 'Mrs', 'Miss', 'Master', 'Other']\n",
    "rank_transform = {'Mlle': 'Miss', 'Ms': 'Mrs', 'Mme': 'Mrs'}\n",
    "\n",
    "train['Rank'] = pd.Categorical(train['Name'].apply(lambda x: x.split('.')[0].split(' ')[-1]).replace(rank_transform), categories=accepted_ranks).fillna('Other')\n",
    "test['Rank'] = pd.Categorical(test['Name'].apply(lambda x: x.split('.')[0].split(' ')[-1]).replace(rank_transform), categories=accepted_ranks).fillna('Other')"
   ]
  },
  {
   "cell_type": "code",
   "execution_count": 16,
   "metadata": {},
   "outputs": [],
   "source": [
    "# Drop non exploitable columns\n",
    "unwanted_columns = ['Cabin', 'PassengerId', 'Name', 'Ticket']\n",
    "\n",
    "train = train.drop(columns=unwanted_columns)\n",
    "test = test.drop(columns=unwanted_columns)"
   ]
  },
  {
   "cell_type": "code",
   "execution_count": 17,
   "metadata": {},
   "outputs": [],
   "source": [
    "# Embarked data imputation:\n",
    "imputed_embarked_value = train['Embarked'].mode()[0]\n",
    "\n",
    "train['Embarked'] = train['Embarked'].fillna(imputed_embarked_value)\n",
    "test['Embarked'] = test['Embarked'].fillna(imputed_embarked_value)\n",
    "\n",
    "# Age data imputation:\n",
    "imputed_age_value = train['Age'].mean()\n",
    "\n",
    "train['Age'] = train['Age'].fillna(imputed_age_value)\n",
    "test['Age'] = test['Age'].fillna(imputed_age_value)"
   ]
  },
  {
   "cell_type": "code",
   "execution_count": 18,
   "metadata": {},
   "outputs": [],
   "source": [
    "# Data encoding\n",
    "numeric_cols = train.select_dtypes(['float', 'int']).columns\n",
    "categorical_cols = train.select_dtypes(['category', 'object']).columns\n",
    "\n",
    "# Data encoding:\n",
    "encoder = OneHotEncoder()\n",
    "\n",
    "train_encoded_features = encoder.fit_transform(train[categorical_cols])\n",
    "test_encoded_features = encoder.transform(test[categorical_cols])\n",
    "\n",
    "train_encoded = pd.concat([\n",
    "    train.drop(columns=categorical_cols),\n",
    "    pd.DataFrame(train_encoded_features.toarray(), columns=encoder.get_feature_names_out())\n",
    "], axis=1) \n",
    "\n",
    "test_encoded = pd.concat([\n",
    "    test.drop(columns=categorical_cols),\n",
    "    pd.DataFrame(test_encoded_features.toarray(), columns=encoder.get_feature_names_out())\n",
    "], axis=1)\n",
    "\n",
    "# Data normalization\n",
    "scaler = MinMaxScaler()\n",
    "train_encoded[numeric_cols] = scaler.fit_transform(train_encoded[numeric_cols])\n",
    "test_encoded[numeric_cols] = scaler.transform(test_encoded[numeric_cols])"
   ]
  },
  {
   "cell_type": "code",
   "execution_count": 19,
   "metadata": {},
   "outputs": [],
   "source": [
    "# Model exploration:\n",
    "random_state = 111"
   ]
  },
  {
   "cell_type": "code",
   "execution_count": 20,
   "metadata": {},
   "outputs": [],
   "source": [
    "# Imports and display results function\n",
    "\n",
    "from sklearn.model_selection import train_test_split\n",
    "from sklearn.linear_model import LogisticRegression\n",
    "from sklearn.ensemble import RandomForestClassifier\n",
    "\n",
    "from sklearn.metrics import accuracy_score, classification_report, confusion_matrix\n",
    "\n",
    "def display_results(y_real, y_pred):\n",
    "    print(f\"Accuracy: {accuracy_score(y_real, y_pred)}\")\n",
    "\n",
    "    print(classification_report(y_real, y_pred))\n",
    "\n",
    "    cm = confusion_matrix(y_real, y_pred)\n",
    "\n",
    "    palette = sns.color_palette(\"ch:start=.2,rot=-.3\", as_cmap=True)\n",
    "    ax= plt.subplot()\n",
    "    sns.heatmap(cm, annot=True, fmt='g', ax=ax, cmap=palette);\n",
    "\n",
    "    # labels, title and ticks\n",
    "    ax.set_xlabel('Predicted labels')\n",
    "    ax.set_ylabel('True labels')\n",
    "    ax.set_title('Confusion Matrix')\n",
    "    ax.xaxis.set_ticklabels(['Died', 'Survived']) \n",
    "    ax.yaxis.set_ticklabels(['Died', 'Survived'])"
   ]
  },
  {
   "cell_type": "code",
   "execution_count": 21,
   "metadata": {},
   "outputs": [],
   "source": [
    "# Split train dataset in Train and Validation\n",
    "X_train, X_test, y_train, y_test = train_test_split(train_encoded, target, test_size=0.3, random_state=random_state)"
   ]
  },
  {
   "cell_type": "code",
   "execution_count": 22,
   "metadata": {},
   "outputs": [
    {
     "name": "stdout",
     "output_type": "stream",
     "text": [
      "Accuracy: 0.8246268656716418\n",
      "              precision    recall  f1-score   support\n",
      "\n",
      "           0       0.84      0.89      0.87       171\n",
      "           1       0.78      0.71      0.75        97\n",
      "\n",
      "    accuracy                           0.82       268\n",
      "   macro avg       0.81      0.80      0.81       268\n",
      "weighted avg       0.82      0.82      0.82       268\n",
      "\n"
     ]
    },
    {
     "data": {
      "image/png": "[encoded data removed]",
      "text/plain": [
       "<Figure size 640x480 with 2 Axes>"
      ]
     },
     "metadata": {},
     "output_type": "display_data"
    }
   ],
   "source": [
    "# Linear Regression (LogisticRegression)\n",
    "logistic_regression_model = LogisticRegression(random_state=random_state)\n",
    "\n",
    "logistic_regression_model.fit(X_train, y_train)\n",
    "\n",
    "y_pred = logistic_regression_model.predict(X_test)\n",
    "\n",
    "display_results(y_test, y_pred)"
   ]
  }
 ],
 "metadata": {
  "kernelspec": {
   "display_name": "Python 3",
   "language": "python",
   "name": "python3"
  },
  "language_info": {
   "codemirror_mode": {
    "name": "ipython",
    "version": 3
   },
   "file_extension": ".py",
   "mimetype": "text/x-python",
   "name": "python",
   "nbconvert_exporter": "python",
   "pygments_lexer": "ipython3",
   "version": "3.10.10"
  },
  "orig_nbformat": 4
 },
 "nbformat": 4,
 "nbformat_minor": 2
}
