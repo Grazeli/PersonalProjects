{
 "cells": [
  {
   "cell_type": "code",
   "execution_count": 1,
   "metadata": {},
   "outputs": [],
   "source": [
    "import warnings\n",
    "warnings.filterwarnings('ignore')\n",
    "\n",
    "import pandas as pd\n",
    "import numpy as np\n",
    "import matplotlib.pyplot as plt\n",
    "import seaborn as sns\n",
    "\n",
    "import bz2\n",
    "import re\n",
    "\n",
    "pd.set_option(\"display.max_columns\", None)"
   ]
  },
  {
   "cell_type": "code",
   "execution_count": 2,
   "metadata": {},
   "outputs": [
    {
     "name": "stdout",
     "output_type": "stream",
     "text": [
      "df.shape = (3600000, 2)\n"
     ]
    },
    {
     "data": {
      "text/html": [
       "<div>\n",
       "<style scoped>\n",
       "    .dataframe tbody tr th:only-of-type {\n",
       "        vertical-align: middle;\n",
       "    }\n",
       "\n",
       "    .dataframe tbody tr th {\n",
       "        vertical-align: top;\n",
       "    }\n",
       "\n",
       "    .dataframe thead th {\n",
       "        text-align: right;\n",
       "    }\n",
       "</style>\n",
       "<table border=\"1\" class=\"dataframe\">\n",
       "  <thead>\n",
       "    <tr style=\"text-align: right;\">\n",
       "      <th></th>\n",
       "      <th>Label</th>\n",
       "      <th>Review</th>\n",
       "    </tr>\n",
       "  </thead>\n",
       "  <tbody>\n",
       "    <tr>\n",
       "      <th>0</th>\n",
       "      <td>1</td>\n",
       "      <td>Stuning even for the non-gamer: This sound tra...</td>\n",
       "    </tr>\n",
       "    <tr>\n",
       "      <th>1</th>\n",
       "      <td>1</td>\n",
       "      <td>The best soundtrack ever to anything.: I'm rea...</td>\n",
       "    </tr>\n",
       "    <tr>\n",
       "      <th>2</th>\n",
       "      <td>1</td>\n",
       "      <td>Amazing!: This soundtrack is my favorite music...</td>\n",
       "    </tr>\n",
       "    <tr>\n",
       "      <th>3</th>\n",
       "      <td>1</td>\n",
       "      <td>Excellent Soundtrack: I truly like this soundt...</td>\n",
       "    </tr>\n",
       "    <tr>\n",
       "      <th>4</th>\n",
       "      <td>1</td>\n",
       "      <td>Remember, Pull Your Jaw Off The Floor After He...</td>\n",
       "    </tr>\n",
       "  </tbody>\n",
       "</table>\n",
       "</div>"
      ],
      "text/plain": [
       "   Label                                             Review\n",
       "0      1  Stuning even for the non-gamer: This sound tra...\n",
       "1      1  The best soundtrack ever to anything.: I'm rea...\n",
       "2      1  Amazing!: This soundtrack is my favorite music...\n",
       "3      1  Excellent Soundtrack: I truly like this soundt...\n",
       "4      1  Remember, Pull Your Jaw Off The Floor After He..."
      ]
     },
     "metadata": {},
     "output_type": "display_data"
    }
   ],
   "source": [
    "# Read file with bz2\n",
    "y = []\n",
    "x = []\n",
    "\n",
    "count = 0\n",
    "for line in bz2.BZ2File('Data/train.ft.txt.bz2'):\n",
    "    tmp = line.decode('utf-8')\n",
    "    y.append(int(tmp[9]) - 1)\n",
    "    x.append(tmp[11:].strip())\n",
    "\n",
    "df = pd.DataFrame({'Label': y, 'Review': x})\n",
    "\n",
    "print(f'{df.shape = }')\n",
    "display(df.head())"
   ]
  },
  {
   "cell_type": "markdown",
   "metadata": {},
   "source": [
    "## Preprocessing"
   ]
  },
  {
   "cell_type": "code",
   "execution_count": 3,
   "metadata": {},
   "outputs": [],
   "source": [
    "from sklearn.model_selection import train_test_split\n",
    "from sklearn.feature_extraction.text import CountVectorizer, HashingVectorizer, TfidfVectorizer\n",
    "from sklearn.linear_model import LogisticRegression\n",
    "from sklearn.metrics import accuracy_score"
   ]
  },
  {
   "cell_type": "code",
   "execution_count": 4,
   "metadata": {},
   "outputs": [],
   "source": [
    "# Text cleaning:\n",
    "# Change all text to lowercase\n",
    "# Removing all non letters (ponctuation, numbers...)\n",
    "df['Review'] = df['Review'].apply(lambda x: re.compile(r\"[^a-z\\s]\").sub(r\" \", x.lower()))"
   ]
  },
  {
   "cell_type": "code",
   "execution_count": 5,
   "metadata": {},
   "outputs": [
    {
     "name": "stdout",
     "output_type": "stream",
     "text": [
      "X_train.shape = (2880000,), X_test.shape = (720000,)\n"
     ]
    }
   ],
   "source": [
    "# Splitting dataset into train and test.\n",
    "X_train, X_test, y_train, y_test = train_test_split(df['Review'], df['Label'], test_size=0.2, random_state=1)\n",
    "\n",
    "print(f'{X_train.shape = }, {X_test.shape = }')"
   ]
  },
  {
   "cell_type": "code",
   "execution_count": 6,
   "metadata": {},
   "outputs": [
    {
     "name": "stdout",
     "output_type": "stream",
     "text": [
      "X_train_CV.shape = (2880000, 763487), X_test_CV.shape = (720000, 763487)\n"
     ]
    }
   ],
   "source": [
    "# CountVectorizer with Logistic Regression\n",
    "vectorizer = CountVectorizer()\n",
    "X_train_CV = vectorizer.fit_transform(X_train)\n",
    "X_test_CV = vectorizer.transform(X_test)\n",
    "\n",
    "print(f'{X_train_CV.shape = }, {X_test_CV.shape = }')"
   ]
  },
  {
   "cell_type": "code",
   "execution_count": 7,
   "metadata": {},
   "outputs": [
    {
     "name": "stdout",
     "output_type": "stream",
     "text": [
      "0.904675\n"
     ]
    }
   ],
   "source": [
    "model = LogisticRegression(solver='lbfgs', max_iter=100)\n",
    "model = model.fit(X_train_CV, y_train)\n",
    "\n",
    "predictions = model.predict(X_test_CV)\n",
    "\n",
    "print(accuracy_score(y_test, list(predictions)))"
   ]
  },
  {
   "cell_type": "code",
   "execution_count": 10,
   "metadata": {},
   "outputs": [
    {
     "name": "stdout",
     "output_type": "stream",
     "text": [
      "X_train_HV.shape = (2880000, 1048576), X_test_HV.shape = (720000, 1048576)\n"
     ]
    }
   ],
   "source": [
    "# HashingVectorizer with Logistic Regression\n",
    "vectorizer = HashingVectorizer()\n",
    "X_train_HV = vectorizer.fit_transform(X_train)\n",
    "X_test_HV = vectorizer.transform(X_test)\n",
    "\n",
    "print(f'{X_train_HV.shape = }, {X_test_HV.shape = }')"
   ]
  },
  {
   "cell_type": "code",
   "execution_count": 11,
   "metadata": {},
   "outputs": [
    {
     "name": "stdout",
     "output_type": "stream",
     "text": [
      "0.9024541666666667\n"
     ]
    }
   ],
   "source": [
    "model = LogisticRegression(solver='lbfgs', max_iter=100)\n",
    "model = model.fit(X_train_HV, y_train)\n",
    "\n",
    "predictions = model.predict(X_test_HV)\n",
    "\n",
    "print(accuracy_score(y_test, list(predictions)))"
   ]
  },
  {
   "cell_type": "code",
   "execution_count": 8,
   "metadata": {},
   "outputs": [
    {
     "name": "stdout",
     "output_type": "stream",
     "text": [
      "X_train_TF.shape = (2880000, 763487), X_test_TF.shape = (720000, 763487)\n"
     ]
    }
   ],
   "source": [
    "# Tfidf with Logistic Regression\n",
    "tfidf = TfidfVectorizer()\n",
    "X_train_TF = tfidf.fit_transform(X_train)\n",
    "X_test_TF = tfidf.transform(X_test)\n",
    "\n",
    "print(f'{X_train_TF.shape = }, {X_test_TF.shape = }')"
   ]
  },
  {
   "cell_type": "code",
   "execution_count": 9,
   "metadata": {},
   "outputs": [
    {
     "name": "stdout",
     "output_type": "stream",
     "text": [
      "0.904675\n"
     ]
    }
   ],
   "source": [
    "model = LogisticRegression(solver='lbfgs', max_iter=100)\n",
    "model = model.fit(X_train_CV, y_train)\n",
    "\n",
    "predictions = model.predict(X_test_CV)\n",
    "\n",
    "print(accuracy_score(y_test, list(predictions)))"
   ]
  }
 ],
 "metadata": {
  "kernelspec": {
   "display_name": "Python 3",
   "language": "python",
   "name": "python3"
  },
  "language_info": {
   "codemirror_mode": {
    "name": "ipython",
    "version": 3
   },
   "file_extension": ".py",
   "mimetype": "text/x-python",
   "name": "python",
   "nbconvert_exporter": "python",
   "pygments_lexer": "ipython3",
   "version": "3.10.10"
  },
  "orig_nbformat": 4
 },
 "nbformat": 4,
 "nbformat_minor": 2
}
